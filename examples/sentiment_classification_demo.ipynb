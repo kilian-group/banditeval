{
 "cells": [
  {
   "cell_type": "markdown",
   "metadata": {},
   "source": [
    "# Demo EvalBandit usage for Sentiment Classification\n",
    "\n",
    "In this demo we use the `BanditEval` class to select between a variety of sentiment classification models available via Hugging Face."
   ]
  },
  {
   "cell_type": "code",
   "execution_count": null,
   "metadata": {},
   "outputs": [],
   "source": [
    "import torch\n",
    "\n",
    "from datasets import load_dataset\n",
    "from banditeval import BanditEval\n",
    "from transformers import AutoTokenizer, AutoModelForSequenceClassification\n",
    "from tqdm.auto import tqdm"
   ]
  },
  {
   "cell_type": "markdown",
   "metadata": {},
   "source": [
    "## Define Models, Dataset, and Evaluation Function"
   ]
  },
  {
   "cell_type": "code",
   "execution_count": null,
   "metadata": {},
   "outputs": [],
   "source": [
    "# Constants\n",
    "DEVICE = \"cuda\"\n",
    "MODEL_NAMES = [\n",
    "    \"philschmid/tiny-bert-sst2-distilled\",\n",
    "    \"tanganke/gpt2_sst2\",\n",
    "    \"gchhablani/bert-base-cased-finetuned-sst2\",\n",
    "    \"distilbert-base-uncased-finetuned-sst-2-english\",\n",
    "    \"textattack/bert-base-uncased-SST-2\",\n",
    "    \"assemblyai/distilbert-base-uncased-sst2\",\n",
    "    \"Alireza1044/albert-base-v2-sst2\",\n",
    "]\n",
    "\n",
    "\n",
    "# Create callables for each model\n",
    "def make_callable(tokenizer, model):\n",
    "    def callable(texts):\n",
    "        model.to(DEVICE)\n",
    "        tokens = tokenizer(texts, return_tensors=\"pt\", padding=True)\n",
    "        tokens = {k: v.to(DEVICE) for k, v in tokens.items()}\n",
    "        outputs = model(**tokens)\n",
    "        model.cpu()\n",
    "        return outputs.logits.argmax(dim=-1).cpu()\n",
    "\n",
    "    return callable\n",
    "\n",
    "\n",
    "models = [\n",
    "    make_callable(\n",
    "        AutoTokenizer.from_pretrained(model_name),\n",
    "        AutoModelForSequenceClassification.from_pretrained(model_name),\n",
    "    )\n",
    "    for model_name in tqdm(MODEL_NAMES)\n",
    "]\n",
    "\n",
    "# Load dataset\n",
    "dataset = load_dataset(\"glue\", \"sst2\", split=\"validation\")\n",
    "\n",
    "\n",
    "# Define evaluation function\n",
    "def evaluate(method, examples):\n",
    "    texts = [example[\"sentence\"] for example in examples]\n",
    "    labels = torch.tensor([example[\"label\"] for example in examples])\n",
    "    with torch.no_grad():\n",
    "        predictions = method(texts)\n",
    "    scores = (predictions == labels).float()\n",
    "    return scores"
   ]
  },
  {
   "cell_type": "markdown",
   "metadata": {},
   "source": [
    "## Initialize and Run `BanditEval`"
   ]
  },
  {
   "cell_type": "code",
   "execution_count": null,
   "metadata": {},
   "outputs": [],
   "source": [
    "# Constants\n",
    "BUDGET = 100  # number of evaluation queries\n",
    "BATCH_SIZE = 8  # number of examples per query\n",
    "ALGORITHM = \"ucbe\"  # or \"ucbe-lrf\"\n",
    "\n",
    "# Initialize evaluator\n",
    "evaluator = BanditEval(\n",
    "    models,\n",
    "    dataset,\n",
    "    evaluate,\n",
    "    ALGORITHM,\n",
    ")\n",
    "\n",
    "# Run evaluation\n",
    "scores = evaluator(\n",
    "    budget=BUDGET,\n",
    "    batch_size=BATCH_SIZE,\n",
    ")"
   ]
  },
  {
   "cell_type": "code",
   "execution_count": null,
   "metadata": {},
   "outputs": [],
   "source": [
    "# Write out results\n",
    "left_justification = max(len(name) for name in MODEL_NAMES) + 1\n",
    "order = torch.argsort(scores, descending=True)\n",
    "print(\"Model Name\".ljust(left_justification), \"Accuracy\")\n",
    "for i in order:\n",
    "    print(f\"{MODEL_NAMES[i]}:\".ljust(left_justification), f\"{scores[i].item()*100:.2f}%\")"
   ]
  },
  {
   "cell_type": "code",
   "execution_count": null,
   "metadata": {},
   "outputs": [],
   "source": []
  }
 ],
 "metadata": {
  "kernelspec": {
   "display_name": "nlp",
   "language": "python",
   "name": "python3"
  },
  "language_info": {
   "codemirror_mode": {
    "name": "ipython",
    "version": 3
   },
   "file_extension": ".py",
   "mimetype": "text/x-python",
   "name": "python",
   "nbconvert_exporter": "python",
   "pygments_lexer": "ipython3",
   "version": "3.11.7"
  }
 },
 "nbformat": 4,
 "nbformat_minor": 2
}
